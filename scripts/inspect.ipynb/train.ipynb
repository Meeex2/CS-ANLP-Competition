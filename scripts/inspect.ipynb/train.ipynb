{
 "cells": [
  {
   "cell_type": "code",
   "execution_count": 4,
   "metadata": {},
   "outputs": [
    {
     "data": {
      "application/vnd.jupyter.widget-view+json": {
       "model_id": "8074f96a4ecc4a7cbcac3a13137e9a06",
       "version_major": 2,
       "version_minor": 0
      },
      "text/plain": [
       "Map:   0%|          | 0/31083 [00:00<?, ? examples/s]"
      ]
     },
     "metadata": {},
     "output_type": "display_data"
    },
    {
     "data": {
      "application/vnd.jupyter.widget-view+json": {
       "model_id": "0899798d3aed496ab7e3047260cf0068",
       "version_major": 2,
       "version_minor": 0
      },
      "text/plain": [
       "Map:   0%|          | 0/7771 [00:00<?, ? examples/s]"
      ]
     },
     "metadata": {},
     "output_type": "display_data"
    },
    {
     "name": "stderr",
     "output_type": "stream",
     "text": [
      "Some weights of ModernBertForSequenceClassification were not initialized from the model checkpoint at answerdotai/ModernBERT-base and are newly initialized: ['classifier.bias', 'classifier.weight']\n",
      "You should probably TRAIN this model on a down-stream task to be able to use it for predictions and inference.\n"
     ]
    }
   ],
   "source": [
    "import torch\n",
    "import numpy as np\n",
    "from datasets import load_dataset, ClassLabel\n",
    "from sklearn.utils.class_weight import compute_class_weight\n",
    "from transformers import (\n",
    "    AutoTokenizer,\n",
    "    ModernBertForSequenceClassification,\n",
    "    TrainingArguments,\n",
    "    Trainer,\n",
    "    DataCollatorWithPadding,\n",
    "\n",
    "    EarlyStoppingCallback\n",
    ")\n",
    "import evaluate\n",
    "\n",
    "#config\n",
    "MODEL_NAME = \"answerdotai/ModernBERT-base\"\n",
    "CSV_FILE = \"data/train_submission.csv\"  # CSV path\n",
    "MAX_LENGTH = 256  # Adjust based on analysis or remove truncation to use data collator alone\n",
    "BATCH_SIZE = 128\n",
    "NUM_EPOCHS = 10\n",
    "\n",
    "#device\n",
    "device = torch.device(\"cuda\" if torch.cuda.is_available() else \"cpu\")\n",
    "\n",
    "#data loading from CSV\n",
    "dataset = load_dataset(\"csv\", data_files=CSV_FILE)\n",
    "# Note: The CSV columns are: ID,Usage,Text,Label\n",
    "\n",
    "# use the text for model input and label for training;\n",
    "# if you want to train, you need to convert labels into numeric IDs\n",
    "unique_labels = list(set(dataset[\"train\"][\"Label\"]))\n",
    "\n",
    "class_feature = ClassLabel(names=unique_labels)\n",
    "# Map the \"Label\" column to numeric ids while keeping the original text in a separate field if needed\n",
    "dataset = dataset.map(lambda ex: {\"Label\": class_feature.str2int(ex[\"Label\"])}, batched=True)\n",
    "dataset = dataset.cast_column(\"Label\", class_feature)\n",
    "\n",
    "# rename \"Label\" to \"labels\" for Trainer compatibility\n",
    "dataset = dataset.rename_column(\"Label\", \"labels\")\n",
    "# Optionally, you can remove unnecessary columns like \"ID\" and \"Usage\"\n",
    "dataset = dataset.remove_columns([\"ID\", \"Usage\"])\n",
    "\n",
    "#train test split\n",
    "split_dataset = dataset[\"train\"].train_test_split(test_size=0.2)\n",
    "\n",
    "#tokenization using \"Text\" column\n",
    "tokenizer = AutoTokenizer.from_pretrained(MODEL_NAME)\n",
    "\n",
    "def tokenize_function(examples):\n",
    "    return tokenizer(\n",
    "        examples[\"Text\"],\n",
    "        padding=False,  # or remove truncation/limit max_length if using dynamic padding fully\n",
    "        truncation=True,\n",
    "        max_length=MAX_LENGTH\n",
    "    )\n",
    "\n",
    "tokenized_datasets = split_dataset.map(tokenize_function, batched=True)\n",
    "\n",
    "# ... rest of your code remains the same ...\n",
    "\n",
    "#class balancing\n",
    "train_labels = tokenized_datasets[\"train\"][\"labels\"]\n",
    "class_weights = compute_class_weight(\n",
    "    \"balanced\",\n",
    "    classes=np.unique(train_labels),\n",
    "    y=train_labels\n",
    ")\n",
    "class_weights = torch.tensor(class_weights, dtype=torch.float32).to(device)\n",
    "\n",
    "# Custom Trainer for class weights\n",
    "class WeightedTrainer(Trainer):\n",
    "    def __init__(self, class_weights, *args, **kwargs):\n",
    "        super().__init__(*args, **kwargs)\n",
    "        self.class_weights = class_weights\n",
    "        self.class_weights_on_device = None\n",
    "\n",
    "    \n",
    "    def compute_loss(self, model, inputs, return_outputs=False, **kwargs):\n",
    "        device = model.device\n",
    "        labels = inputs.pop(\"labels\").to(device)\n",
    "        if self.class_weights_on_device is None:\n",
    "            self.class_weights_on_device = self.class_weights.to(device)\n",
    "        outputs = model(**inputs)\n",
    "        logits = outputs.logits\n",
    "        loss_fct = torch.nn.CrossEntropyLoss(weight=self.class_weights_on_device)\n",
    "        loss = loss_fct(logits, labels)\n",
    "        return (loss, outputs) if return_outputs else loss\n",
    "    \n",
    "\n",
    "#load the model\n",
    "#the %%forsequenceclassification class extends the checkpoints with a softmax classification head with num_labels neurons\n",
    "\n",
    "model = ModernBertForSequenceClassification.from_pretrained(\n",
    "    MODEL_NAME,\n",
    "    num_labels=len(unique_labels),\n",
    "    id2label={i: str(lbl) for i, lbl in enumerate(unique_labels)},\n",
    "    label2id={str(lbl) : i for i, lbl in enumerate(unique_labels)}\n",
    ").to(device)\n"
   ]
  },
  {
   "cell_type": "code",
   "execution_count": 5,
   "metadata": {},
   "outputs": [
    {
     "name": "stderr",
     "output_type": "stream",
     "text": [
      "/gpfs/users/oumidaa/.local/share/mamba/envs/multilang-code-vul-detection/lib/python3.9/site-packages/transformers/training_args.py:1576: FutureWarning: `evaluation_strategy` is deprecated and will be removed in version 4.46 of 🤗 Transformers. Use `eval_strategy` instead\n",
      "  warnings.warn(\n",
      "Detected kernel version 3.10.0, which is below the recommended minimum of 5.5.0; this can cause the process to hang. It is recommended to upgrade the kernel to the minimum version or higher.\n"
     ]
    },
    {
     "ename": "",
     "evalue": "",
     "output_type": "error",
     "traceback": [
      "\u001b[1;31mThe Kernel crashed while executing code in the current cell or a previous cell. \n",
      "\u001b[1;31mPlease review the code in the cell(s) to identify a possible cause of the failure. \n",
      "\u001b[1;31mClick <a href='https://aka.ms/vscodeJupyterKernelCrash'>here</a> for more info. \n",
      "\u001b[1;31mView Jupyter <a href='command:jupyter.viewOutput'>log</a> for further details."
     ]
    },
    {
     "ename": "",
     "evalue": "",
     "output_type": "error",
     "traceback": [
      "\u001b[1;31mCanceled future for execute_request message before replies were done"
     ]
    },
    {
     "ename": "",
     "evalue": "",
     "output_type": "error",
     "traceback": [
      "\u001b[1;31mCanceled future for execute_request message before replies were done. \n",
      "\u001b[1;31mView Jupyter <a href='command:jupyter.viewOutput'>log</a> for further details."
     ]
    }
   ],
   "source": [
    "#experiment N 1\n",
    "training_args = TrainingArguments(\n",
    "    output_dir=\"./results/exp2\",\n",
    "    evaluation_strategy=\"steps\",\n",
    "    save_strategy=\"steps\",\n",
    "    save_steps=200,\n",
    "    eval_steps=20,\n",
    "    learning_rate=1e-5,\n",
    "    per_device_train_batch_size=BATCH_SIZE,\n",
    "    per_device_eval_batch_size=BATCH_SIZE*2,\n",
    "    num_train_epochs=NUM_EPOCHS,\n",
    "    weight_decay=0.01,\n",
    "    max_grad_norm=1.0,\n",
    "    label_smoothing_factor=0.1,\n",
    "    # lr_scheduler_type = \"cosine\",\n",
    "    # warmup_ratio = 0.1,\n",
    "    load_best_model_at_end=True,\n",
    "    metric_for_best_model=\"accuracy\",\n",
    "    fp16=True,\n",
    "    report_to=\"none\",\n",
    "    logging_steps=50,\n",
    "    gradient_accumulation_steps = 10,\n",
    "    logging_dir=\"./train_logs/exp2\"\n",
    ")\n",
    "\n",
    "data_collator = DataCollatorWithPadding(tokenizer=tokenizer)\n",
    "\n",
    "# Metrics\n",
    "accuracy_metric = evaluate.load(\"accuracy\")\n",
    "f1_metric = evaluate.load(\"f1\")\n",
    "\n",
    "def compute_metrics(eval_pred):\n",
    "    logits, labels = eval_pred\n",
    "    predictions = np.argmax(logits, axis=1)\n",
    "    return {\n",
    "        \"accuracy\": accuracy_metric.compute(predictions=predictions, references=labels)[\"accuracy\"],\n",
    "        \"macro_f1\": f1_metric.compute(predictions=predictions, references=labels, average=\"macro\")[\"f1\"]\n",
    "    }\n",
    "\n",
    "\n",
    "# Initialize Trainer\n",
    "trainer = Trainer(\n",
    "     model=model,\n",
    "     args=training_args,\n",
    "     train_dataset=tokenized_datasets[\"train\"],\n",
    "     eval_dataset=tokenized_datasets[\"test\"],\n",
    "     compute_metrics=compute_metrics,\n",
    "     data_collator=data_collator,\n",
    "     callbacks=[EarlyStoppingCallback(early_stopping_patience=20, early_stopping_threshold=0.001)]\n",
    ")\n",
    "\n",
    "'''\n",
    "trainer = WeightedTrainer(\n",
    "    class_weights=class_weights,\n",
    "    model=model,\n",
    "    args=training_args,\n",
    "    train_dataset=tokenized_datasets[\"train\"],\n",
    "    eval_dataset=tokenized_datasets[\"test\"],\n",
    "    compute_metrics=compute_metrics,\n",
    "    data_collator=data_collator,\n",
    "    callbacks=[EarlyStoppingCallback(early_stopping_patience=5, early_stopping_threshold=0.001)]\n",
    ")\n",
    "'''\n",
    "\n",
    "#training\n",
    "trainer.train()\n",
    "trainer.save_model(\"./checkpoints/exp2\")\n",
    "tokenizer.save_pretrained(\"./checkpoints/exp2\")\n"
   ]
  }
 ],
 "metadata": {
  "kernelspec": {
   "display_name": "multilang-code-vul-detection",
   "language": "python",
   "name": "python3"
  },
  "language_info": {
   "codemirror_mode": {
    "name": "ipython",
    "version": 3
   },
   "file_extension": ".py",
   "mimetype": "text/x-python",
   "name": "python",
   "nbconvert_exporter": "python",
   "pygments_lexer": "ipython3",
   "version": "3.9.21"
  }
 },
 "nbformat": 4,
 "nbformat_minor": 2
}
