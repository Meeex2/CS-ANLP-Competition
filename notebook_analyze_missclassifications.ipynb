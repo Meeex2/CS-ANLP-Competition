{
 "cells": [
  {
   "cell_type": "code",
   "execution_count": 1,
   "metadata": {},
   "outputs": [],
   "source": [
    "import pandas as pd\n",
    "import numpy as np\n",
    "import matplotlib.pyplot as plt\n",
    "import seaborn as sns"
   ]
  },
  {
   "cell_type": "code",
   "execution_count": 3,
   "metadata": {},
   "outputs": [
    {
     "data": {
      "application/vnd.microsoft.datawrangler.viewer.v0+json": {
       "columns": [
        {
         "name": "index",
         "rawType": "int64",
         "type": "integer"
        },
        {
         "name": "Text",
         "rawType": "object",
         "type": "string"
        },
        {
         "name": "Predicted Label",
         "rawType": "object",
         "type": "string"
        },
        {
         "name": "Probability",
         "rawType": "float64",
         "type": "float"
        },
        {
         "name": "True Label",
         "rawType": "object",
         "type": "string"
        },
        {
         "name": "Example Text for True Label",
         "rawType": "object",
         "type": "string"
        }
       ],
       "conversionMethod": "pd.DataFrame",
       "ref": "94099687-fd49-408b-89d4-aa803aa80a8d",
       "rows": [
        [
         "0",
         "زہدوتقویٰ جداں کہ مذکورہ خط تو‏ں وی معلوم ہُندا اے، انہاں دا خاص وصف سی، اک شاگرد نے انہاں تو‏ں اک دن کہیا کہ لوگاں وچ آپ دا اِنّا چرچا اے تے آپ رات کوسوندے رہندے نيں، بولے چپ رہو!",
         "aln",
         "0.9998307",
         "sqi",
         "Ne fakt sa e lëshova telefonin me të."
        ],
        [
         "1",
         "جورجين شوارتز من مواليد يوم 12 ابريل سنة 1854 فى امستردام.",
         "nld",
         "0.9997261",
         "lim",
         "De latex weurt vervolges gefilterd en verdónd mit water."
        ],
        [
         "2",
         "N’a sɔrɔla sagolasɔnni don  dilibaga tɛ kuma nin cogo in na. wa ni diyagoya don  a na kɛ hadamadenya taabolo ka diyagoya ye bawo delikɛla b’a yɛrɛ ye dilibaga duguma waati bɛɛ.",
         "est",
         "0.9993506",
         "ekk",
         "Järves on kaks saart  kokku pindala 0 08 ha."
        ],
        [
         "3",
         "Tru ho hev trutna fast i Stolom?",
         "dyu",
         "0.9992518",
         "bam",
         "Aw ye taa aw ɲɛ lajɛ kabini aw ka yeli bɛ dɔgɔya sufɛ."
        ],
        [
         "4",
         "Sta chiese pure ca ha stat fatt in stile romaniche  jndr'à certe cose pare ca ète na chiese goteco.",
         "sat",
         "0.99913424",
         "div",
         "މާކިން ބައްޕަ ކުރިމަތީ އިށީންދެ ޓީވީއަށް ނަޒަރު ހުއްޓާލައިގެން އިންދާ ބައްޕަ ޓީވީގެ އަޑު މަޑުކޮށްލިއެވެ."
        ],
        [
         "5",
         "Dy mennick ta cuir heese j'ee gra dy row ee ny Cornisheyr un-çhengaghyn jerrinagh  t'eh shen  y dooiney jerrinagh lesh y Chornish agh gyn y Vaarle  agh t'eh shen ayns contraartys rish e coontey urree hene  myr va recortyssit ec Daines Barrington.",
         "nld",
         "0.99911493",
         "afr",
         "Om meer te sien Silhouette Modelle kliek hier: Silhouette"
        ],
        [
         "6",
         "Alla statliga instanser är tvungna att följa grundlagen.",
         "srp",
         "0.9986777",
         "hbs",
         "Како пише Велт  немачка организација Про асил која помаже избеглицама такође је упозорила на „прљав посао на рачун људских права“. Споразим с Турском постаће знак подршке „нехуманој политици“ Ердофана и „моралног банкротства“ Европе  изјавили су чланови ове организације."
        ],
        [
         "7",
         "Зубайд ал Ямоний айтадилар: ”Мен ҳар бир нарсада ниятим бўлишини яхши кўраман ҳатто ейиш – ичишда ҳам”.",
         "dan",
         "0.99859935",
         "lat",
         "Jane Laffort fille de Joseph Laffort et d' Angelique Gogiash est nil le 2 Fevrier 1887 fiel baptiste le 13 Febier 1887. Parrain-Pierre Gogioth  Marraine-Sussime Neveu. sign J. F. Chambers. s.j."
        ],
        [
         "8",
         "Rice served on the staff o the Naitional Security Cooncil an as Assistant Secretary o State for African Affairs durin Preses Bill Clinton 's seicont term.",
         "meu",
         "0.9984976",
         "hmo",
         "Badina be haida ese umui emui orea dekenai hunia dala dekenai idia vareai vadaeni. Gunaguna Buka Helaga ia gwau unai bamona taudia be Dirava ena Kota dekenai edia kerere davana do idia davaria momokani. Idia ese Dirava idia negea. Idia ese Dirava ena hariharibada idia hadibaia kerere  edia lebulebu karadia do idia karaia diba totona. Inai taudia ese iseda Lohiabada Iesu Keriso  iseda Biaguna tamona  idia negea vadaeni."
        ],
        [
         "9",
         "Алишер Усмонов олий мукофот билан тақдирланди – PROTODAY.",
         "hye",
         "0.9980356",
         "hyw",
         "Mequinenza. Մեքինենցա (իսպ. ՝ Mequinenza)  համայնք Իսպանիայում  Արագոնա նահանգի Սարագոսա գավառում: Մունիցիպալիտետը պատկանում է Ստորին Սինկայի շրջանին  որը գտնվում է նահանգի ծայրամասային արևելքում  սահմանակից է Ուեսկա և Լլեյդա քաղաքներին  Էբրո  Սինկա և Սեգրե գետերի միախառնման վայրում:."
        ],
        [
         "10",
         "लक्षण देखिएका मानिसको रेडियोग्राफमा विशेषतागत तस्विर लिने सुविधा र कम्प्युटेड टोमोग्राफी (CT) मा एसिमेट्रिक पेरिफेरल ग्राउन्ड ग्लास ओप्यासिटिज र एब्सेन्ट प्ल्युरल इफ्युजन्स समावेश हुन्छन्।",
         "jav",
         "0.99778557",
         "pam",
         "Pangeran Djakalan  kang sinebat  Pangeran Sedanglaoetan  kang sirane hing Moendoe lan Iboeneki  Rarapi pon ning  kana  boja wonten tadakaning woeri  doepi kang mrenah hing tedakanira  poenika kang mijos  saking Padjadjaran waoe."
        ],
        [
         "11",
         "“Lubusang winasak” ng Israel ang kalaban hanggang “walang natira.”",
         "tuk",
         "0.9976132",
         "tat",
         "Tatar İrekle Entsiklopediäse - Wikipediädä kirill häm latin älifbalarında yazuı röxsät itelä."
        ],
        [
         "12",
         "Pipash paipaj cuerpotallataca na millanayachinllu . Ashtahuangarin aliguta micushpa alichirinatami yachan . Shinallatami tandanajuj crijcunatapash   Cristoca cuidashpa charijun .",
         "tat",
         "0.9973628",
         "bak",
         "Һырттың атамаһы Ҡырым татарҙары теленән туранан-тура тәржемәләгәндә тау түбәһе  ә мәғәнәһе буйынса тауҙар тамамланған урын тигәнде аңлата."
        ],
        [
         "13",
         "De buutneirdsche zulln ton ôver uus stelsel spreek'n van 't twoalfdêlig stelsel naar unne norm.",
         "nld",
         "0.99706906",
         "sco",
         "Rice served on the staff o the Naitional Security Cooncil an as Assistant Secretary o State for African Affairs durin Preses Bill Clinton 's seicont term."
        ],
        [
         "14",
         "San Giovani in Marignan el xe on comune de 8 015 abitanti 'nte ła provincia de Rimini.",
         "sat",
         "0.9967867",
         "div",
         "މާކިން ބައްޕަ ކުރިމަތީ އިށީންދެ ޓީވީއަށް ނަޒަރު ހުއްޓާލައިގެން އިންދާ ބައްޕަ ޓީވީގެ އަޑު މަޑުކޮށްލިއެވެ."
        ],
        [
         "15",
         "It-tneħħija totali tas-serum ta' amoxicillin inaqqas b'mod proporzjonali mat-tnaqqis fil-funzjoni tal-kliewi (ara sezzjoni 4.2 u 4.4)",
         "ayr",
         "0.9967764",
         "aym",
         "Bactrocera abbreviata ch'iwi (Insecta)  orden chhichhillanka (Diptera)."
        ],
        [
         "16",
         "וַיֹּאמֶר מֹשֶׁה אִכְלֻהוּ הַיּוֹם כִּי־שַׁבָּת הַיּוֹם לַיהוָה הַיּוֹם לֹא תִמְצָאֻהוּ בַּשָּׂדֶה.",
         "bew",
         "0.99620265",
         "bel",
         "А на яблыкі ў мяне алергія."
        ],
        [
         "17",
         "DAAWO SAWIRADA Shirkii New Deal oo Muqdisho ku soo dhamaaday",
         "srp",
         "0.99597305",
         "hbs",
         "Како пише Велт  немачка организација Про асил која помаже избеглицама такође је упозорила на „прљав посао на рачун људских права“. Споразим с Турском постаће знак подршке „нехуманој политици“ Ердофана и „моралног банкротства“ Европе  изјавили су чланови ове организације."
        ],
        [
         "18",
         "Азиатки тийнейджъри сладъл уста got stuffed HardSexTube 12:21",
         "est",
         "0.99587554",
         "ekk",
         "Järves on kaks saart  kokku pindala 0 08 ha."
        ],
        [
         "19",
         "De nakomelingen van deze Edelen hebben later de stamnaam van Eversdijk aangenomen  welke naam onderscheidene malen op de regeringslijsten der stad Goes te vinden is.",
         "smo",
         "0.99581075",
         "tsn",
         "Ka go dirisa thekniki yeo ya phetogonepiso  Lentsoane o rata go bontsha"
        ],
        [
         "20",
         "Suliniummi arloriarnerat aappaat tassaassaaq nalunaarusiornerit ataasiakkaat nalinersorneqar-nissaat kiisalu piginnittut nassaarinissaat.",
         "tgl",
         "0.99561524",
         "fil",
         "Panawagan niya sa pamahalaan na bigyang halaga ang kanilang ipinagkakaloob na serbisyo sa mga mananakay sa halip na paboran at pagsilbihan ang mga mayayamang gumagamit ng pribadong sasakyan."
        ],
        [
         "21",
         "Ang Mayo 8 ay ang ika-128 na araw sa Kalendaryong Gregorian  at mayroon pang 237 na araw ang natitira.",
         "kmr",
         "0.9946672",
         "kur",
         "Piştî heyşt mehan  di civîna xwe ya sisiyan de ÎKS (Însiyatîfa Kurdên li Swêdê) wek avahiyeke siyasî hate avakirin. Di meseleya yekitiya  kurdan de ev ne gava pêşiye ku tê avêtin. Berî vê gavê jî gelek hewildayinên hevkarî û yekîtiyan hatibûn dayin  lê di encamê de bi ser neketibûn.     Di nav vê însiyatîfê de  bi pirayî ew kesên ku ji koka siyaseta rêxistinên Kurd tên û kadroyên siyasî yên xwedî tecrube nin. Gelekan ji wan salên xwe danin siyasetê. Ger ev kesan di karê ku danin ber xwe cidî bin  dikarin tesîreke baş li vê pêvajoyê bikin û dikare di sahneya siyaseta Kurd de bibin giraniyekê. Ger mirov li derbasbûyina wan binêre  gelekan  ji wan di derbasbûyina xwe ya siyasî de pir kirinin  lê hindik afirandinin. Ev yeka han jî di siyasetê de hêviyeke xurt na de mirov.    Ger ev gav di peyvê de nemîne û di emel de gavên ber bi çav bên avêtin  şansa wê ya ku bikaribe bibe hêzeke bitesîr  heye. Ger di peyvê de û di çerçeweya civînan de bimîne û di van civînan de hin kes vê zemînê ji xwe re bikin sehaya xwe deşarzkirinê  ew ê ev gav jî wek wan gavên berê nîvqurmiçî bimîne û Kurd careke din jî di warê yekîtî û hevkariyan de  dê di  sinifê de dimînin. Heta civîneke din  -ger hin kes ne bi dilê mirov be jî- komîteyeke bi minet û rica hate hilbijartin. Ger di civîna pêş de ev kes û endamên vê însiyatîfê xwe ji hin tiştan re amade bikin û xwe ji hin qaliban xelas bikin dê bikaribin hêviyê bide. Divê endam û rêvebirên vê însiyatîfê ji bo xatir û ricayê Wezîfeyê wernegirin. Ger di civînên pêş de jî ev awayê ku bi zixt û zordayina hin kesan  an jî ji bo xatirê hin kesan Wezîfe bê wergirtin  ew ê ev mesele negêje derekê.    Biserketin û  nebiserketina karên siyasî di pêvajoya civîn û hibijartina   organan de diyar dibe. Mirov di jiyana xwe ya siyasî de bûye şahidê van tiştan. Ger civîneke siyasî an rêxistinî çê dibe  ji serî heta binî rexne  kêmanî  û tewanbarî yên bêqiyas tên kirin. Bi seetan li ser meseleyan tê rawestandin û bi dehan pêþniyar tên kirin. Gelek caran ji ber hin kesan mirov mejbûr dibe ku ji wan civînan bireve. Gava civîn tê ser xala rojevê ya hilbijartina organan  wê gavê her tişt eşkere dibe. Ew kesên ku mirov ji ber  wan paçan dike guhên xwe  ew xwe li tiştekî nakin xwedî û nabin talibê tu Wezîfeyan. Hin ji wan di minaqaşeyên li ser vê xalê de  ji civînan difiskirînin.     Di civînên ku heta nuha min dîtinin de  ji xêndî îstisnayan  min nedîtiye ku kes bûye talibê Wezîfeyê. Kesî xwe pêşniyarî komîteyan nekiriye. Her gav hin kes ji bo hin kesên din pêşniyaran dikin û di encamê de jî ew ê tên pêşniyar kirin bi minet û rica wazifeyan qebûl dikin. Gava di wê Wezîfeya ku wergirtiye de bi ser nakevin  dibêjin  \"Ji  xwe min nedixwest ez vî karî bikim. Min ji ber filan kes an bêvan kes nekir der\". Ji ber vê rewşê jî gelekan ji xwe re kirinin adet û qilifê ku di pêş de bisernekevin hazir dikin û gava tên pêşniyar kirin  teva ku dilê wan heye jî  bi zaneyî xwe delalî dikin. Ji ber ku wan rêya xwe fahm kirinin. Çawa be hin kes dê wan pêşniyar bikin û ew ê li ber wan bigerin.    Karê siyasî ji bo xatir û minetê nayê kirin. Ew kesên ku ew karên pê re radibin  divê ji riza dilê xwe bikin û ew bi xwe bibe talibê  Wezîfeyan da ku bikaribe ji xelkê jî Wezîfeyan bixwazin. Bê diyar kirin ku ew karê pê re rabûye  ew bi xwe çiqasî baweriyê pê tîne. Ger mirov ji wî karê ku dike ne bawer û ne îqna be  mirov çawa dikare hin kesên din îqna bike? Ger di civîneke din de li gorî îhtiyacên komîteya dê bê hibijartin  însanên ji rizaye dilê xwe  xwe li wazifeyê rakişanînin  wê gavê hêvî û baweriyên mirov dikare xurttir bibe. Mirov dikare bibe yek ji wan kesên aqtîf ê vê prosesê."
        ],
        [
         "22",
         "Warga orang Israel bangun pagi-pagi dan berkhemah mengepung Gibea.",
         "ayr",
         "0.99359703",
         "aym",
         "Bactrocera abbreviata ch'iwi (Insecta)  orden chhichhillanka (Diptera)."
        ],
        [
         "23",
         "Aşadar  eşti un bun ţintaş  Hagman?",
         "est",
         "0.99282736",
         "ekk",
         "Järves on kaks saart  kokku pindala 0 08 ha."
        ],
        [
         "24",
         "Rubén Darío - Cantos de vida y esperanza",
         "pes",
         "0.99274385",
         "glk",
         "تو برف امروز وقتی رسیدیم، بعد نیم ساعت فهمیدیم گروه شادی نمیان!"
        ],
        [
         "25",
         "Pathian teal ahi  Babylon khua ah om na pawlpipui ii hong paupui bangma in ka tapa Mark zongh in hong paupui hi.",
         "tir",
         "0.99226165",
         "amh",
         "የመጀመርያው ሥዕል ዐፄ ኃይለ ሥላሴ ሕመምተኞችን ሲጎበኙ የሚያሳይ ሲሆን ሁለተኛው ሥዕል ደግሞ ሆስፒታሉ ሲከፈት፣ ከሆስፒታሉ በላይ ክንፉ አረንጓዴ ቢጫ ቀይ የሆነ መልአክ፤ በመካከል ላይም ዐፄ ኃይለ ሥላሴ የሆስፒታሉን መከፈት ሲያበሥሩ፤ ሕዝቡም ለሕክምና ወደ ሆስፒታሉ ሲሄድ የሚያሳይ ነው፡፡"
        ],
        [
         "26",
         "Yinseng merekacipta satu sut perisai keluli lengkap bersenjata serta ditenagai reaktor arka mini bagi membolehkan mereka melarikan diri.",
         "zlm",
         "0.99206114",
         "zsm",
         "Itu baru Hazwin  kalau Linda bagaimana?"
        ],
        [
         "27",
         "26 Şubat 1969 tarihinde Levi Eshkol'un ölümünün ardından başbakan seçilmiştir.",
         "roh",
         "0.9916375",
         "lmo",
         "Ul sindigh al é Jean-Marc Wacq  con mandat 2001-2008."
        ],
        [
         "28",
         "það fær vitneskju um að veruleg frávik séu frá því að gjaldþolskröfu vátryggingasamstæðu sé fullnægt óháð því hvaða aðferð er notuð við matið  c.",
         "vec",
         "0.9913521",
         "cos",
         "MARA – E  allura  ci dicu n’autra cosa  tantu ppi mettiri tuttu in chiaru: Sarina  allamorti di so’ maritu  non havi mancu l’obbligu di purtaricci ‘u luttu. Però  siccomu semu cristiani e canuscemu i nostri duviri  ppi tri misi ‘a fazzu vestiri di nìuru; ma sulu ppi tri misi  macari si ‘u mortu s’arrivota intra ‘a tomba."
        ],
        [
         "29",
         "Osorou ku pama osonong no do misugku kito mirikau.",
         "pag",
         "0.99086165",
         "pam",
         "Pangeran Djakalan  kang sinebat  Pangeran Sedanglaoetan  kang sirane hing Moendoe lan Iboeneki  Rarapi pon ning  kana  boja wonten tadakaning woeri  doepi kang mrenah hing tedakanira  poenika kang mijos  saking Padjadjaran waoe."
        ],
        [
         "30",
         "gangtar mikpa déshyin nyi dou min",
         "hin",
         "0.9887953",
         "zul",
         "Concert Ukulele in Nat Satin Read more"
        ],
        [
         "31",
         "εἰδὼς δὲ ὁ Ἰησοῦς ἐν ἑαυτῷ ὅτι γογγύζουσιν περὶ τούτου οἱ μαθηταὶ αὐτοῦ εἶπεν αὐτοῖς· Τοῦτο ὑμᾶς σκανδαλίζει;",
         "que",
         "0.98748267",
         "scn",
         "amaru cu sia fa supraniari …………..lustru di paradisu nun nni vidi"
        ],
        [
         "32",
         "Iye alonga tenepa : Pyalembwa M'bukhu ya Mulungu kuti : “ Nyumba yanga inadza kakhala nyumba ya kuphembera . ” Mbwenye imwe mwaisanduza kuti ikhale mbuto ya kubisalira mambava .",
         "hau",
         "0.987104",
         "xho",
         "Xa FAQ yethu siye sachaza ukuba zokulanda zethu anikwe 8080 port endaweni uyezibuko 80. Ngoko ke  le ndlela simpliest ukwazi ukuba uthotho lwakho 8080 ivaliwe ngenxa firewall lwakho ukuzama ukulayisha into evela Simviation.com  kutheni? Ngenxa simviation usebenzise isibuko efanayo zokulanda zabo  ngoko ukuba ayisebenzi ne simviation kunye Rikoooo ngoko ke qiniseka 100%  firewall yakho ukuvala 8080 port. Kufuneka uvule izibuko 8080 TCP / UDP ngokudibanisa umthetho ibe firewall yakho."
        ],
        [
         "33",
         "Por ena prej balte në të cilën është pjekur do të thyhet ; dhe në rast se është pjekur në një enë prej bronzi   kjo do të fërkohet mirë dhe do të shpëlahet me ujë .",
         "aka",
         "0.9866089",
         "haw",
         "ʻAʻohe puʻu kālā kālepa Casino ma Belarus"
        ],
        [
         "34",
         "CoverCradle 72570 Replacement Prolift III Pivot Assembly Right SideVLIES FOTOTAPETEN WANDTAPETEN WANDBILDER DEKORATIV KN-4504",
         "hbs",
         "0.9862596",
         "srp",
         "Bila sam u Jerusalimu i Rimu u Kelnu i i Santjagu de Komposteli."
        ],
        [
         "35",
         "Τραυμα- τίσθηκα γι'αυτό! Το αίμα έτρεχε από το στήθος μου και σ'άκουσα!",
         "jav",
         "0.9861222",
         "ban",
         "Ponsel ini rencananya akan diluncurkan pada 24 September ini."
        ],
        [
         "36",
         "¡Yuj wal tyoxh ayex yuj hemulnajil  maj tanaj ha’ snuq’a’! Heb’ kajwom b’ay Witzlan tzalojk’ulal ayek’ heb’ yuj watx’ max yun yelok smulnajil heb’.",
         "jav",
         "0.9859402",
         "pam",
         "Pangeran Djakalan  kang sinebat  Pangeran Sedanglaoetan  kang sirane hing Moendoe lan Iboeneki  Rarapi pon ning  kana  boja wonten tadakaning woeri  doepi kang mrenah hing tedakanira  poenika kang mijos  saking Padjadjaran waoe."
        ],
        [
         "37",
         "Alaska business directory is a complete directory of businesses in alaska.we offer a list of companies",
         "yue",
         "0.9855871",
         "zho",
         "宁波东洲传动件有限公司-新闻中心"
        ],
        [
         "38",
         "Leson 1Olketa blakbed fidim ElaejaStori long Baebol",
         "hif",
         "0.98437774",
         "tgk",
         "«Пойтахт» бизнес маркази бизнес-музокаралар  конференциялар ва тақдимотларни ўтказиш учун жуда мос келади. Компаниямиз ушбу кўп қаватли бинода қулай шароит яратиш учун яхшигина тер тўкди. [ads_hr hr_style=»hr-solid»] «Пойтахт» бизнес-маркази пойтахтдаги энг муҳим бизнес объектларидан биридир. Бу 12-қаватли кўркам бино Мустақиллик майдони ёнгинасида қурилгандир. Бизнес марказининг инфратузилмасида офислар  кўп мақсадли конференц-заллар  меҳмонхона  ресторан  тренажер зали  фитнесс клуби  […]"
        ],
        [
         "39",
         "Mes origines sont issues d'une galaxie très très lointaine...",
         "grn",
         "0.984218",
         "gug",
         "Pejerure Tupãme ani haguã ojehu peẽme ko'ã mba'e ro'y jave ."
        ],
        [
         "40",
         "Apa perbedaan kedua status proses portofolio DYS tersebut? 2).",
         "tat",
         "0.9837594",
         "bak",
         "Һырттың атамаһы Ҡырым татарҙары теленән туранан-тура тәржемәләгәндә тау түбәһе  ә мәғәнәһе буйынса тауҙар тамамланған урын тигәнде аңлата."
        ],
        [
         "41",
         "Dugang pa  ang live betting bahin midugang ang usa ka gamay sa kahinam nga nagtan-aw sa duwa sa TV.",
         "deu",
         "0.98364717",
         "kat",
         "REEC: 1.ACCURL ყოველთვის უზრუნველყოფს მაღალხარისხიან მანქანას  როგორც ვიცით  უცხოური ბაზარი უფრო ძნელია და ძნელია  ვიდრე შიდა ბაზარზე  რადგან გაყიდვების შემდეგ ფასების ზრდის გამო  ასე რომ  ყოველთვის  ჩვენი მანქანა აქვს საკმარისი ხარისხის სტანდარტი იმისათვის  ვიდრე რეალური გარანტიის პერიოდი. ამ გზით  ჩვენ გადავარჩენთ ბევრს და წინასწარ ვფიქრობ კლიენტებს."
        ],
        [
         "42",
         "JM de Guzman  malamyang kumanta Gretchen  nakakagulat ang award SUMABAK ng kanta­han ang pandak na aktor sa kaapelyido niyang si Edgar Allan Guzman sa Zirkoh Morato sa pag-aakalang mapapataob niya ito.",
         "que",
         "0.9833778",
         "quy",
         "Turquia allpan 37 suyuntinpi aswan hatunta qawarichispa kay teqsimuyuntinpi hinaqa yaqapas Francia llaqta hina sayayninpi hinallataq reino unido nisqawanpas."
        ],
        [
         "43",
         "-مي خواستم ببينم با کي بايد صحبت کنم؟",
         "hin",
         "0.98133504",
         "zul",
         "Concert Ukulele in Nat Satin Read more"
        ],
        [
         "44",
         "Herfanê Alfabeyê Ewıstki de hem nuştışê İranio kıhan ra u hem zi alfabeyê Greki ra herfi estê.",
         "bew",
         "0.98043686",
         "bel",
         "А на яблыкі ў мяне алергія."
        ],
        [
         "45",
         "Modo -mode -- como qomode -- (a alga modo) unomode -- (tal) ucimode -- (tota modo) totamode -- (no modo) > a no mode",
         "slk",
         "0.9787202",
         "ces",
         "Seš prolhaná coura  která nemá ani pětník."
        ],
        [
         "46",
         "هي تمام نازڪ ۽ سهڻا ٿيندا آهن.",
         "swc",
         "0.9771427",
         "swh",
         "Mashabiki walijaribu kuinusuru tamthilia bila mafanikio."
        ],
        [
         "47",
         "John Ray Grisham  Jr. born February 8  1955  is an American bestselling writer  attorney  politician  and activist best known for his popular legal thrillers. His books have been",
         "dan",
         "0.9768996",
         "nor",
         "Men velg relevante hashtags og ikke altfor mange."
        ],
        [
         "48",
         "Pejerure Tupãme ani haguã ojehu peẽme ko'ã mba'e ro'y jave .",
         "fry",
         "0.9760247",
         "lim",
         "De latex weurt vervolges gefilterd en verdónd mit water."
        ],
        [
         "49",
         "पावसाळ्यात सह्याद्रीच्या अनेक परिसरात या दिसतात.",
         "bew",
         "0.97592807",
         "bel",
         "А на яблыкі ў мяне алергія."
        ]
       ],
       "shape": {
        "columns": 5,
        "rows": 692
       }
      },
      "text/html": [
       "<div>\n",
       "<style scoped>\n",
       "    .dataframe tbody tr th:only-of-type {\n",
       "        vertical-align: middle;\n",
       "    }\n",
       "\n",
       "    .dataframe tbody tr th {\n",
       "        vertical-align: top;\n",
       "    }\n",
       "\n",
       "    .dataframe thead th {\n",
       "        text-align: right;\n",
       "    }\n",
       "</style>\n",
       "<table border=\"1\" class=\"dataframe\">\n",
       "  <thead>\n",
       "    <tr style=\"text-align: right;\">\n",
       "      <th></th>\n",
       "      <th>Text</th>\n",
       "      <th>Predicted Label</th>\n",
       "      <th>Probability</th>\n",
       "      <th>True Label</th>\n",
       "      <th>Example Text for True Label</th>\n",
       "    </tr>\n",
       "  </thead>\n",
       "  <tbody>\n",
       "    <tr>\n",
       "      <th>0</th>\n",
       "      <td>زہدوتقویٰ جداں کہ مذکورہ خط تو‏ں وی معلوم ہُند...</td>\n",
       "      <td>aln</td>\n",
       "      <td>0.999831</td>\n",
       "      <td>sqi</td>\n",
       "      <td>Ne fakt sa e lëshova telefonin me të.</td>\n",
       "    </tr>\n",
       "    <tr>\n",
       "      <th>1</th>\n",
       "      <td>جورجين شوارتز من مواليد يوم 12 ابريل سنة 1854 ...</td>\n",
       "      <td>nld</td>\n",
       "      <td>0.999726</td>\n",
       "      <td>lim</td>\n",
       "      <td>De latex weurt vervolges gefilterd en verdónd ...</td>\n",
       "    </tr>\n",
       "    <tr>\n",
       "      <th>2</th>\n",
       "      <td>N’a sɔrɔla sagolasɔnni don  dilibaga tɛ kuma n...</td>\n",
       "      <td>est</td>\n",
       "      <td>0.999351</td>\n",
       "      <td>ekk</td>\n",
       "      <td>Järves on kaks saart  kokku pindala 0 08 ha.</td>\n",
       "    </tr>\n",
       "    <tr>\n",
       "      <th>3</th>\n",
       "      <td>Tru ho hev trutna fast i Stolom?</td>\n",
       "      <td>dyu</td>\n",
       "      <td>0.999252</td>\n",
       "      <td>bam</td>\n",
       "      <td>Aw ye taa aw ɲɛ lajɛ kabini aw ka yeli bɛ dɔgɔ...</td>\n",
       "    </tr>\n",
       "    <tr>\n",
       "      <th>4</th>\n",
       "      <td>Sta chiese pure ca ha stat fatt in stile roman...</td>\n",
       "      <td>sat</td>\n",
       "      <td>0.999134</td>\n",
       "      <td>div</td>\n",
       "      <td>މާކިން ބައްޕަ ކުރިމަތީ އިށީންދެ ޓީވީއަށް ނަޒަރ...</td>\n",
       "    </tr>\n",
       "    <tr>\n",
       "      <th>...</th>\n",
       "      <td>...</td>\n",
       "      <td>...</td>\n",
       "      <td>...</td>\n",
       "      <td>...</td>\n",
       "      <td>...</td>\n",
       "    </tr>\n",
       "    <tr>\n",
       "      <th>687</th>\n",
       "      <td>Yerü nümaxü̃ rü ñanagürügü: —Taxucürüwama ñu̱x...</td>\n",
       "      <td>ina</td>\n",
       "      <td>0.213220</td>\n",
       "      <td>eus</td>\n",
       "      <td>Kaiko ontzia hartuta  hor joan gara bi txikiek...</td>\n",
       "    </tr>\n",
       "    <tr>\n",
       "      <th>688</th>\n",
       "      <td>Spaudai datai pažymėti  antspaudui uždėti arba...</td>\n",
       "      <td>ahk</td>\n",
       "      <td>0.208074</td>\n",
       "      <td>glk</td>\n",
       "      <td>تو برف امروز وقتی رسیدیم، بعد نیم ساعت فهمیدیم...</td>\n",
       "    </tr>\n",
       "    <tr>\n",
       "      <th>689</th>\n",
       "      <td>Wwwsongspk lata kishore k - Dil dhadak raha ha...</td>\n",
       "      <td>sun</td>\n",
       "      <td>0.206168</td>\n",
       "      <td>zul</td>\n",
       "      <td>Concert Ukulele in Nat Satin Read more</td>\n",
       "    </tr>\n",
       "    <tr>\n",
       "      <th>690</th>\n",
       "      <td>Tejtzen cypon Jesús tuj tnom te Betfagé   jun ...</td>\n",
       "      <td>sun</td>\n",
       "      <td>0.204028</td>\n",
       "      <td>iba</td>\n",
       "      <td>Nadai payung nuan? Enda ka nuan nabik basa nua...</td>\n",
       "    </tr>\n",
       "    <tr>\n",
       "      <th>691</th>\n",
       "      <td>Winicob mi caj i yʌc'ob ti chʌmel i yerañob . ...</td>\n",
       "      <td>zul</td>\n",
       "      <td>0.166133</td>\n",
       "      <td>sco</td>\n",
       "      <td>Rice served on the staff o the Naitional Secur...</td>\n",
       "    </tr>\n",
       "  </tbody>\n",
       "</table>\n",
       "<p>692 rows × 5 columns</p>\n",
       "</div>"
      ],
      "text/plain": [
       "                                                  Text Predicted Label  \\\n",
       "0    زہدوتقویٰ جداں کہ مذکورہ خط تو‏ں وی معلوم ہُند...             aln   \n",
       "1    جورجين شوارتز من مواليد يوم 12 ابريل سنة 1854 ...             nld   \n",
       "2    N’a sɔrɔla sagolasɔnni don  dilibaga tɛ kuma n...             est   \n",
       "3                     Tru ho hev trutna fast i Stolom?             dyu   \n",
       "4    Sta chiese pure ca ha stat fatt in stile roman...             sat   \n",
       "..                                                 ...             ...   \n",
       "687  Yerü nümaxü̃ rü ñanagürügü: —Taxucürüwama ñu̱x...             ina   \n",
       "688  Spaudai datai pažymėti  antspaudui uždėti arba...             ahk   \n",
       "689  Wwwsongspk lata kishore k - Dil dhadak raha ha...             sun   \n",
       "690  Tejtzen cypon Jesús tuj tnom te Betfagé   jun ...             sun   \n",
       "691  Winicob mi caj i yʌc'ob ti chʌmel i yerañob . ...             zul   \n",
       "\n",
       "     Probability True Label                        Example Text for True Label  \n",
       "0       0.999831        sqi              Ne fakt sa e lëshova telefonin me të.  \n",
       "1       0.999726        lim  De latex weurt vervolges gefilterd en verdónd ...  \n",
       "2       0.999351        ekk       Järves on kaks saart  kokku pindala 0 08 ha.  \n",
       "3       0.999252        bam  Aw ye taa aw ɲɛ lajɛ kabini aw ka yeli bɛ dɔgɔ...  \n",
       "4       0.999134        div  މާކިން ބައްޕަ ކުރިމަތީ އިށީންދެ ޓީވީއަށް ނަޒަރ...  \n",
       "..           ...        ...                                                ...  \n",
       "687     0.213220        eus  Kaiko ontzia hartuta  hor joan gara bi txikiek...  \n",
       "688     0.208074        glk  تو برف امروز وقتی رسیدیم، بعد نیم ساعت فهمیدیم...  \n",
       "689     0.206168        zul             Concert Ukulele in Nat Satin Read more  \n",
       "690     0.204028        iba  Nadai payung nuan? Enda ka nuan nabik basa nua...  \n",
       "691     0.166133        sco  Rice served on the staff o the Naitional Secur...  \n",
       "\n",
       "[692 rows x 5 columns]"
      ]
     },
     "execution_count": 3,
     "metadata": {},
     "output_type": "execute_result"
    }
   ],
   "source": [
    "df = pd.read_csv(\"data/missclassified_samples.csv\")\n",
    "df"
   ]
  },
  {
   "cell_type": "code",
   "execution_count": 9,
   "metadata": {},
   "outputs": [
    {
     "data": {
      "text/plain": [
       "<Axes: xlabel='True Label'>"
      ]
     },
     "execution_count": 9,
     "metadata": {},
     "output_type": "execute_result"
    },
    {
     "data": {
      "image/png": "[encoded data removed]",
      "text/plain": [
       "<Figure size 4000x500 with 1 Axes>"
      ]
     },
     "metadata": {},
     "output_type": "display_data"
    }
   ],
   "source": [
    "# Count the number of missclassified samples per True Label\n",
    "df[\"True Label\"].value_counts().plot(kind='bar', figsize=(40, 5))"
   ]
  }
 ],
 "metadata": {
  "kernelspec": {
   "display_name": ".venv",
   "language": "python",
   "name": "python3"
  },
  "language_info": {
   "codemirror_mode": {
    "name": "ipython",
    "version": 3
   },
   "file_extension": ".py",
   "mimetype": "text/x-python",
   "name": "python",
   "nbconvert_exporter": "python",
   "pygments_lexer": "ipython3",
   "version": "3.13.1"
  }
 },
 "nbformat": 4,
 "nbformat_minor": 2
}
